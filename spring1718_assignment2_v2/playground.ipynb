{
 "cells": [
  {
   "cell_type": "code",
   "execution_count": 2,
   "metadata": {
    "collapsed": true
   },
   "outputs": [],
   "source": [
    "import numpy as np"
   ]
  },
  {
   "cell_type": "code",
   "execution_count": 16,
   "metadata": {},
   "outputs": [
    {
     "data": {
      "text/plain": [
       "array([[[[ 0,  2,  8],\n",
       "         [ 2,  5,  4]],\n",
       "\n",
       "        [[ 9, 10,  1],\n",
       "         [ 9,  6,  9]],\n",
       "\n",
       "        [[ 5,  8,  1],\n",
       "         [ 3,  3, 10]],\n",
       "\n",
       "        [[ 3,  3, 10],\n",
       "         [ 4, 10,  8]]],\n",
       "\n",
       "\n",
       "       [[[ 6,  1,  3],\n",
       "         [ 4,  5,  6]],\n",
       "\n",
       "        [[ 4,  1,  8],\n",
       "         [ 1,  5,  5]],\n",
       "\n",
       "        [[ 1,  7,  2],\n",
       "         [ 1, 10,  4]],\n",
       "\n",
       "        [[ 2,  4,  1],\n",
       "         [ 9,  2,  8]]],\n",
       "\n",
       "\n",
       "       [[[ 4,  8,  4],\n",
       "         [ 3,  8,  6]],\n",
       "\n",
       "        [[ 9,  3,  6],\n",
       "         [ 9,  4,  3]],\n",
       "\n",
       "        [[10,  3,  6],\n",
       "         [ 6,  7,  3]],\n",
       "\n",
       "        [[ 3,  5,  2],\n",
       "         [10,  3,  3]]]])"
      ]
     },
     "execution_count": 16,
     "metadata": {},
     "output_type": "execute_result"
    }
   ],
   "source": [
    "N = 3\n",
    "C = 4\n",
    "H = 2\n",
    "W = 3\n",
    "sh = (N, C, H, W)\n",
    "\n",
    "a = np.random.randint(0, 10, N*C*H*W).reshape(sh) + 1 \n",
    "\n",
    "\n",
    "# for i in range(a.shape[1]):\n",
    "#     print(np.pad(a[0, i, ...], pad_width=1, mode='constant')) \n",
    "\n",
    "a_padded = np.pad(a,  pad_width=[[0,0], [0,0], [1,1], [1,1]], mode='constant');\n",
    "a[0,0,0,0] = 0\n",
    "a "
   ]
  },
  {
   "cell_type": "code",
   "execution_count": 38,
   "metadata": {},
   "outputs": [
    {
     "data": {
      "text/plain": [
       "array([[[[ 0,  9,  5,  3],\n",
       "         [ 2, 10,  8,  3],\n",
       "         [ 8,  1,  1, 10]],\n",
       "\n",
       "        [[ 2,  9,  3,  4],\n",
       "         [ 5,  6,  3, 10],\n",
       "         [ 4,  9, 10,  8]]],\n",
       "\n",
       "\n",
       "       [[[ 6,  4,  1,  2],\n",
       "         [ 1,  1,  7,  4],\n",
       "         [ 3,  8,  2,  1]],\n",
       "\n",
       "        [[ 4,  1,  1,  9],\n",
       "         [ 5,  5, 10,  2],\n",
       "         [ 6,  5,  4,  8]]],\n",
       "\n",
       "\n",
       "       [[[ 4,  9, 10,  3],\n",
       "         [ 8,  3,  3,  5],\n",
       "         [ 4,  6,  6,  2]],\n",
       "\n",
       "        [[ 3,  9,  6, 10],\n",
       "         [ 8,  4,  7,  3],\n",
       "         [ 6,  3,  3,  3]]]])"
      ]
     },
     "execution_count": 38,
     "metadata": {},
     "output_type": "execute_result"
    }
   ],
   "source": [
    "a_t = a.transpose((0,2,3,1))\n",
    "a_t "
   ]
  },
  {
   "cell_type": "code",
   "execution_count": 43,
   "metadata": {},
   "outputs": [
    {
     "data": {
      "text/plain": [
       "(3, 2, 3, 2)"
      ]
     },
     "execution_count": 43,
     "metadata": {},
     "output_type": "execute_result"
    }
   ],
   "source": [
    "for_ln = np.split(a_t, C // 2, axis=3)\n",
    "for_ln[-1].shape"
   ]
  },
  {
   "cell_type": "code",
   "execution_count": 44,
   "metadata": {},
   "outputs": [],
   "source": [
    "stacked = np.stack(for_ln)"
   ]
  },
  {
   "cell_type": "code",
   "execution_count": 45,
   "metadata": {},
   "outputs": [
    {
     "data": {
      "text/plain": [
       "(2, 3, 2, 3, 2)"
      ]
     },
     "execution_count": 45,
     "metadata": {},
     "output_type": "execute_result"
    }
   ],
   "source": [
    "stacked.shape"
   ]
  },
  {
   "cell_type": "code",
   "execution_count": 46,
   "metadata": {},
   "outputs": [
    {
     "data": {
      "text/plain": [
       "array([[[[[ 0,  9],\n",
       "          [ 2, 10],\n",
       "          [ 8,  1]],\n",
       "\n",
       "         [[ 2,  9],\n",
       "          [ 5,  6],\n",
       "          [ 4,  9]]],\n",
       "\n",
       "\n",
       "        [[[ 6,  4],\n",
       "          [ 1,  1],\n",
       "          [ 3,  8]],\n",
       "\n",
       "         [[ 4,  1],\n",
       "          [ 5,  5],\n",
       "          [ 6,  5]]],\n",
       "\n",
       "\n",
       "        [[[ 4,  9],\n",
       "          [ 8,  3],\n",
       "          [ 4,  6]],\n",
       "\n",
       "         [[ 3,  9],\n",
       "          [ 8,  4],\n",
       "          [ 6,  3]]]],\n",
       "\n",
       "\n",
       "\n",
       "       [[[[ 5,  3],\n",
       "          [ 8,  3],\n",
       "          [ 1, 10]],\n",
       "\n",
       "         [[ 3,  4],\n",
       "          [ 3, 10],\n",
       "          [10,  8]]],\n",
       "\n",
       "\n",
       "        [[[ 1,  2],\n",
       "          [ 7,  4],\n",
       "          [ 2,  1]],\n",
       "\n",
       "         [[ 1,  9],\n",
       "          [10,  2],\n",
       "          [ 4,  8]]],\n",
       "\n",
       "\n",
       "        [[[10,  3],\n",
       "          [ 3,  5],\n",
       "          [ 6,  2]],\n",
       "\n",
       "         [[ 6, 10],\n",
       "          [ 7,  3],\n",
       "          [ 3,  3]]]]])"
      ]
     },
     "execution_count": 46,
     "metadata": {},
     "output_type": "execute_result"
    }
   ],
   "source": [
    "stacked"
   ]
  },
  {
   "cell_type": "code",
   "execution_count": 49,
   "metadata": {
    "scrolled": true
   },
   "outputs": [
    {
     "data": {
      "text/plain": [
       "array([[[[ 4.5,  6. ,  4.5],\n",
       "         [ 5.5,  5.5,  6.5]],\n",
       "\n",
       "        [[ 5. ,  1. ,  5.5],\n",
       "         [ 2.5,  5. ,  5.5]],\n",
       "\n",
       "        [[ 6.5,  5.5,  5. ],\n",
       "         [ 6. ,  6. ,  4.5]]],\n",
       "\n",
       "\n",
       "       [[[ 4. ,  5.5,  5.5],\n",
       "         [ 3.5,  6.5,  9. ]],\n",
       "\n",
       "        [[ 1.5,  5.5,  1.5],\n",
       "         [ 5. ,  6. ,  6. ]],\n",
       "\n",
       "        [[ 6.5,  4. ,  4. ],\n",
       "         [ 8. ,  5. ,  3. ]]]])"
      ]
     },
     "execution_count": 49,
     "metadata": {},
     "output_type": "execute_result"
    }
   ],
   "source": [
    "stacked.mean(axis=-1)"
   ]
  },
  {
   "cell_type": "code",
   "execution_count": 50,
   "metadata": {},
   "outputs": [
    {
     "data": {
      "text/plain": [
       "array([[[ 5.        ,  5.83333333],\n",
       "        [ 3.83333333,  4.33333333],\n",
       "        [ 5.66666667,  5.5       ]],\n",
       "\n",
       "       [[ 5.        ,  6.33333333],\n",
       "        [ 2.83333333,  5.66666667],\n",
       "        [ 4.83333333,  5.33333333]]])"
      ]
     },
     "execution_count": 50,
     "metadata": {},
     "output_type": "execute_result"
    }
   ],
   "source": [
    "stacked.mean(axis=-1).mean(axis=-1)"
   ]
  },
  {
   "cell_type": "code",
   "execution_count": 63,
   "metadata": {},
   "outputs": [
    {
     "data": {
      "text/plain": [
       "array([[ 5.41666667,  4.08333333,  5.58333333],\n",
       "       [ 5.66666667,  4.25      ,  5.08333333]])"
      ]
     },
     "execution_count": 63,
     "metadata": {},
     "output_type": "execute_result"
    }
   ],
   "source": [
    "groups_mean = stacked.mean(axis=-1).mean(axis=-1).mean(axis=-1)\n",
    "groups_mean"
   ]
  },
  {
   "cell_type": "markdown",
   "metadata": {},
   "source": [
    "**Проверка:**"
   ]
  },
  {
   "cell_type": "code",
   "execution_count": 52,
   "metadata": {},
   "outputs": [
    {
     "data": {
      "text/plain": [
       "(2, 3, 2, 3, 2)"
      ]
     },
     "execution_count": 52,
     "metadata": {},
     "output_type": "execute_result"
    }
   ],
   "source": [
    "stacked.shape"
   ]
  },
  {
   "cell_type": "code",
   "execution_count": 59,
   "metadata": {},
   "outputs": [
    {
     "data": {
      "text/plain": [
       "array([[[ 0,  9],\n",
       "        [ 2, 10],\n",
       "        [ 8,  1]],\n",
       "\n",
       "       [[ 2,  9],\n",
       "        [ 5,  6],\n",
       "        [ 4,  9]]])"
      ]
     },
     "execution_count": 59,
     "metadata": {},
     "output_type": "execute_result"
    }
   ],
   "source": [
    "stacked[0,0,...]"
   ]
  },
  {
   "cell_type": "code",
   "execution_count": 58,
   "metadata": {},
   "outputs": [
    {
     "data": {
      "text/plain": [
       "5.416666666666667"
      ]
     },
     "execution_count": 58,
     "metadata": {},
     "output_type": "execute_result"
    }
   ],
   "source": [
    "stacked[0,0,...].mean() "
   ]
  },
  {
   "cell_type": "code",
   "execution_count": 66,
   "metadata": {},
   "outputs": [
    {
     "data": {
      "text/plain": [
       "array([[[6, 4],\n",
       "        [1, 1],\n",
       "        [3, 8]],\n",
       "\n",
       "       [[4, 1],\n",
       "        [5, 5],\n",
       "        [6, 5]]])"
      ]
     },
     "execution_count": 66,
     "metadata": {},
     "output_type": "execute_result"
    }
   ],
   "source": [
    "stacked[0,1,...]"
   ]
  },
  {
   "cell_type": "code",
   "execution_count": 61,
   "metadata": {},
   "outputs": [
    {
     "data": {
      "text/plain": [
       "4.083333333333333"
      ]
     },
     "execution_count": 61,
     "metadata": {},
     "output_type": "execute_result"
    }
   ],
   "source": [
    "stacked[0,1,...].mean() "
   ]
  },
  {
   "cell_type": "code",
   "execution_count": 62,
   "metadata": {},
   "outputs": [
    {
     "data": {
      "text/plain": [
       "array([[[ 5,  3],\n",
       "        [ 8,  3],\n",
       "        [ 1, 10]],\n",
       "\n",
       "       [[ 3,  4],\n",
       "        [ 3, 10],\n",
       "        [10,  8]]])"
      ]
     },
     "execution_count": 62,
     "metadata": {},
     "output_type": "execute_result"
    }
   ],
   "source": [
    "stacked[1,0,...]"
   ]
  },
  {
   "cell_type": "markdown",
   "metadata": {},
   "source": [
    "So **stacked** has shape (C//G, N, ..., ..., ...)"
   ]
  },
  {
   "cell_type": "markdown",
   "metadata": {},
   "source": [
    "Let's try to center data"
   ]
  },
  {
   "cell_type": "code",
   "execution_count": 69,
   "metadata": {},
   "outputs": [
    {
     "data": {
      "text/plain": [
       "((2, 3), 'C//G , N')"
      ]
     },
     "execution_count": 69,
     "metadata": {},
     "output_type": "execute_result"
    }
   ],
   "source": [
    "groups_mean.shape, 'C//G , N'"
   ]
  },
  {
   "cell_type": "code",
   "execution_count": 68,
   "metadata": {},
   "outputs": [
    {
     "data": {
      "text/plain": [
       "array([[ 5.41666667,  4.08333333,  5.58333333],\n",
       "       [ 5.66666667,  4.25      ,  5.08333333]])"
      ]
     },
     "execution_count": 68,
     "metadata": {},
     "output_type": "execute_result"
    }
   ],
   "source": [
    "groups_mean"
   ]
  },
  {
   "cell_type": "code",
   "execution_count": 62,
   "metadata": {},
   "outputs": [
    {
     "data": {
      "text/plain": [
       "array([[[ 5,  3],\n",
       "        [ 8,  3],\n",
       "        [ 1, 10]],\n",
       "\n",
       "       [[ 3,  4],\n",
       "        [ 3, 10],\n",
       "        [10,  8]]])"
      ]
     },
     "execution_count": 62,
     "metadata": {},
     "output_type": "execute_result"
    }
   ],
   "source": [
    "stacked[0,0,...]"
   ]
  },
  {
   "cell_type": "code",
   "execution_count": 76,
   "metadata": {},
   "outputs": [
    {
     "data": {
      "text/plain": [
       "array([[[-0.66666667, -2.66666667],\n",
       "        [ 2.33333333, -2.66666667],\n",
       "        [-4.66666667,  4.33333333]],\n",
       "\n",
       "       [[-2.66666667, -1.66666667],\n",
       "        [-2.66666667,  4.33333333],\n",
       "        [ 4.33333333,  2.33333333]]])"
      ]
     },
     "execution_count": 76,
     "metadata": {},
     "output_type": "execute_result"
    }
   ],
   "source": [
    "stacked[1,0,...] - stacked[1,0,...].mean()"
   ]
  },
  {
   "cell_type": "code",
   "execution_count": 79,
   "metadata": {},
   "outputs": [
    {
     "data": {
      "text/plain": [
       "array([[[[[-5.41666667,  3.58333333],\n",
       "          [-3.41666667,  4.58333333],\n",
       "          [ 2.58333333, -4.41666667]],\n",
       "\n",
       "         [[-3.41666667,  3.58333333],\n",
       "          [-0.41666667,  0.58333333],\n",
       "          [-1.41666667,  3.58333333]]],\n",
       "\n",
       "\n",
       "        [[[ 1.91666667, -0.08333333],\n",
       "          [-3.08333333, -3.08333333],\n",
       "          [-1.08333333,  3.91666667]],\n",
       "\n",
       "         [[-0.08333333, -3.08333333],\n",
       "          [ 0.91666667,  0.91666667],\n",
       "          [ 1.91666667,  0.91666667]]],\n",
       "\n",
       "\n",
       "        [[[-1.58333333,  3.41666667],\n",
       "          [ 2.41666667, -2.58333333],\n",
       "          [-1.58333333,  0.41666667]],\n",
       "\n",
       "         [[-2.58333333,  3.41666667],\n",
       "          [ 2.41666667, -1.58333333],\n",
       "          [ 0.41666667, -2.58333333]]]],\n",
       "\n",
       "\n",
       "\n",
       "       [[[[-0.66666667, -2.66666667],\n",
       "          [ 2.33333333, -2.66666667],\n",
       "          [-4.66666667,  4.33333333]],\n",
       "\n",
       "         [[-2.66666667, -1.66666667],\n",
       "          [-2.66666667,  4.33333333],\n",
       "          [ 4.33333333,  2.33333333]]],\n",
       "\n",
       "\n",
       "        [[[-3.25      , -2.25      ],\n",
       "          [ 2.75      , -0.25      ],\n",
       "          [-2.25      , -3.25      ]],\n",
       "\n",
       "         [[-3.25      ,  4.75      ],\n",
       "          [ 5.75      , -2.25      ],\n",
       "          [-0.25      ,  3.75      ]]],\n",
       "\n",
       "\n",
       "        [[[ 4.91666667, -2.08333333],\n",
       "          [-2.08333333, -0.08333333],\n",
       "          [ 0.91666667, -3.08333333]],\n",
       "\n",
       "         [[ 0.91666667,  4.91666667],\n",
       "          [ 1.91666667, -2.08333333],\n",
       "          [-2.08333333, -2.08333333]]]]])"
      ]
     },
     "execution_count": 79,
     "metadata": {},
     "output_type": "execute_result"
    }
   ],
   "source": [
    "centred = stacked - groups_mean[:, :, np.newaxis, np.newaxis, np.newaxis]\n",
    "centred "
   ]
  },
  {
   "cell_type": "code",
   "execution_count": 86,
   "metadata": {},
   "outputs": [
    {
     "data": {
      "text/plain": [
       "array([[[[[-5.41666667,  3.58333333, -0.66666667, -2.66666667],\n",
       "          [-3.41666667,  4.58333333,  2.33333333, -2.66666667],\n",
       "          [ 2.58333333, -4.41666667, -4.66666667,  4.33333333]],\n",
       "\n",
       "         [[-3.41666667,  3.58333333, -2.66666667, -1.66666667],\n",
       "          [-0.41666667,  0.58333333, -2.66666667,  4.33333333],\n",
       "          [-1.41666667,  3.58333333,  4.33333333,  2.33333333]]],\n",
       "\n",
       "\n",
       "        [[[ 1.91666667, -0.08333333, -3.25      , -2.25      ],\n",
       "          [-3.08333333, -3.08333333,  2.75      , -0.25      ],\n",
       "          [-1.08333333,  3.91666667, -2.25      , -3.25      ]],\n",
       "\n",
       "         [[-0.08333333, -3.08333333, -3.25      ,  4.75      ],\n",
       "          [ 0.91666667,  0.91666667,  5.75      , -2.25      ],\n",
       "          [ 1.91666667,  0.91666667, -0.25      ,  3.75      ]]],\n",
       "\n",
       "\n",
       "        [[[-1.58333333,  3.41666667,  4.91666667, -2.08333333],\n",
       "          [ 2.41666667, -2.58333333, -2.08333333, -0.08333333],\n",
       "          [-1.58333333,  0.41666667,  0.91666667, -3.08333333]],\n",
       "\n",
       "         [[-2.58333333,  3.41666667,  0.91666667,  4.91666667],\n",
       "          [ 2.41666667, -1.58333333,  1.91666667, -2.08333333],\n",
       "          [ 0.41666667, -2.58333333, -2.08333333, -2.08333333]]]]])"
      ]
     },
     "execution_count": 86,
     "metadata": {},
     "output_type": "execute_result"
    }
   ],
   "source": [
    "np.concatenate(np.split(centred, 2, axis=0), axis=-1)"
   ]
  },
  {
   "cell_type": "code",
   "execution_count": null,
   "metadata": {
    "collapsed": true
   },
   "outputs": [],
   "source": [
    "for_ln = np.split(a_t, C // 2, axis=3)"
   ]
  },
  {
   "cell_type": "code",
   "execution_count": null,
   "metadata": {
    "collapsed": true
   },
   "outputs": [],
   "source": []
  },
  {
   "cell_type": "code",
   "execution_count": null,
   "metadata": {
    "collapsed": true
   },
   "outputs": [],
   "source": []
  },
  {
   "cell_type": "code",
   "execution_count": null,
   "metadata": {
    "collapsed": true
   },
   "outputs": [],
   "source": []
  },
  {
   "cell_type": "code",
   "execution_count": null,
   "metadata": {
    "collapsed": true
   },
   "outputs": [],
   "source": []
  },
  {
   "cell_type": "code",
   "execution_count": null,
   "metadata": {
    "collapsed": true
   },
   "outputs": [],
   "source": []
  },
  {
   "cell_type": "code",
   "execution_count": null,
   "metadata": {
    "collapsed": true
   },
   "outputs": [],
   "source": []
  },
  {
   "cell_type": "code",
   "execution_count": null,
   "metadata": {
    "collapsed": true
   },
   "outputs": [],
   "source": []
  },
  {
   "cell_type": "code",
   "execution_count": 63,
   "metadata": {
    "collapsed": true
   },
   "outputs": [],
   "source": [
    "stride = 1 \n",
    "ph = 2\n",
    "pw = 2\n",
    "\n",
    "h_out = (H - ph) / stride + 1\n",
    "w_out = (W - pw) / stride + 1"
   ]
  },
  {
   "cell_type": "code",
   "execution_count": 64,
   "metadata": {},
   "outputs": [
    {
     "data": {
      "text/plain": [
       "array([[0, 7],\n",
       "       [7, 2]])"
      ]
     },
     "execution_count": 64,
     "metadata": {},
     "output_type": "execute_result"
    }
   ],
   "source": [
    "aa = a[0, 0, hi*stride : hi*stride + ph, wi*stride : wi*stride + pw] \n",
    "aa "
   ]
  },
  {
   "cell_type": "code",
   "execution_count": 65,
   "metadata": {},
   "outputs": [
    {
     "data": {
      "text/plain": [
       "(array([1, 0]), array([1, 0]))"
      ]
     },
     "execution_count": 65,
     "metadata": {},
     "output_type": "execute_result"
    }
   ],
   "source": [
    "hi = 0\n",
    "wi = 0 \n",
    "\n",
    "ids1 = a[0, 0, hi*stride : hi*stride + ph, wi*stride : wi*stride + pw].argmax(axis=0)\n",
    "ids2 = a[0, 0, hi*stride : hi*stride + ph, wi*stride : wi*stride + pw].argmax(axis=1)\n",
    "\n",
    "ids1, ids2 "
   ]
  },
  {
   "cell_type": "code",
   "execution_count": 66,
   "metadata": {},
   "outputs": [
    {
     "data": {
      "text/plain": [
       "array([1, 0])"
      ]
     },
     "execution_count": 66,
     "metadata": {},
     "output_type": "execute_result"
    }
   ],
   "source": [
    "ids2 "
   ]
  },
  {
   "cell_type": "code",
   "execution_count": null,
   "metadata": {
    "collapsed": true
   },
   "outputs": [],
   "source": []
  },
  {
   "cell_type": "code",
   "execution_count": 73,
   "metadata": {},
   "outputs": [
    {
     "data": {
      "text/plain": [
       "1"
      ]
     },
     "execution_count": 73,
     "metadata": {},
     "output_type": "execute_result"
    }
   ],
   "source": [
    "idx = a[0, 0, hi*stride : hi*stride + ph, wi*stride : wi*stride + pw].argmax() \n",
    "idx "
   ]
  },
  {
   "cell_type": "code",
   "execution_count": 76,
   "metadata": {},
   "outputs": [
    {
     "data": {
      "text/plain": [
       "array([[[[     0, -10000,      8,      6],\n",
       "         [     7,      2,     10,      6],\n",
       "         [     6,      4,      2,      5]],\n",
       "\n",
       "        [[     5,      9,      7,      5],\n",
       "         [     7,      9,      9,      8],\n",
       "         [     6,      4,     10,      4]],\n",
       "\n",
       "        [[     9,      1,      2,      7],\n",
       "         [    10,      9,      5,      6],\n",
       "         [     7,      6,      5,      1]]],\n",
       "\n",
       "\n",
       "       [[[     2,      9,      4,      9],\n",
       "         [     7,      3,      5,      8],\n",
       "         [     8,      3,      5,      8]],\n",
       "\n",
       "        [[     7,      2,      4,      2],\n",
       "         [     9,      1,      4,      6],\n",
       "         [     9,      6,      6,     10]],\n",
       "\n",
       "        [[     4,      7,      8,      4],\n",
       "         [     1,      9,      8,      6],\n",
       "         [     4,      5,      2,      4]]]])"
      ]
     },
     "execution_count": 76,
     "metadata": {},
     "output_type": "execute_result"
    }
   ],
   "source": [
    "a[0, 0 ,idx // 2, idx % 2] = -1e4\n",
    "a "
   ]
  },
  {
   "cell_type": "code",
   "execution_count": 52,
   "metadata": {},
   "outputs": [],
   "source": [
    "a[0, [0, 1, 2], [[0], [1]], [[0], [1]]] = -5"
   ]
  },
  {
   "cell_type": "code",
   "execution_count": 53,
   "metadata": {},
   "outputs": [
    {
     "data": {
      "text/plain": [
       "array([[[[-5,  4,  2,  7],\n",
       "         [ 7, -5,  6,  8],\n",
       "         [ 3,  7,  2,  5]],\n",
       "\n",
       "        [[-5,  7,  2,  5],\n",
       "         [ 1, -5, 10,  5],\n",
       "         [ 9,  2,  3,  7]],\n",
       "\n",
       "        [[-5,  7,  1,  9],\n",
       "         [ 9, -5,  1,  3],\n",
       "         [10, 10,  1,  8]]],\n",
       "\n",
       "\n",
       "       [[[ 5,  4,  1,  8],\n",
       "         [ 4,  7,  4,  7],\n",
       "         [ 4,  8,  5,  3]],\n",
       "\n",
       "        [[ 2,  6,  5,  9],\n",
       "         [ 1, 10, 10, 10],\n",
       "         [ 5,  3,  2,  2]],\n",
       "\n",
       "        [[ 5,  6,  2,  7],\n",
       "         [ 2,  7,  3,  4],\n",
       "         [ 1,  6,  6,  9]]]])"
      ]
     },
     "execution_count": 53,
     "metadata": {},
     "output_type": "execute_result"
    }
   ],
   "source": [
    "a "
   ]
  },
  {
   "cell_type": "code",
   "execution_count": null,
   "metadata": {
    "collapsed": true
   },
   "outputs": [],
   "source": []
  },
  {
   "cell_type": "code",
   "execution_count": 159,
   "metadata": {},
   "outputs": [
    {
     "data": {
      "text/plain": [
       "array([[[[[99,  2,  3,  4,  5],\n",
       "          [ 6,  7,  8,  9, 10]]],\n",
       "\n",
       "\n",
       "        [[[16, 17, 18, 19, 20],\n",
       "          [21, 22, 23, 24, 25]]],\n",
       "\n",
       "\n",
       "        [[[31, 32, 33, 34, 35],\n",
       "          [36, 37, 38, 39, 40]]]],\n",
       "\n",
       "\n",
       "\n",
       "       [[[[46, 47, 48, 49, 50],\n",
       "          [51, 52, 53, 54, 55]]],\n",
       "\n",
       "\n",
       "        [[[61, 62, 63, 64, 65],\n",
       "          [66, 67, 68, 69, 70]]],\n",
       "\n",
       "\n",
       "        [[[76, 77, 78, 79, 80],\n",
       "          [81, 82, 83, 84, 85]]]]])"
      ]
     },
     "execution_count": 159,
     "metadata": {},
     "output_type": "execute_result"
    }
   ],
   "source": [
    "a[:, :, [[0, 1], ]]"
   ]
  },
  {
   "cell_type": "code",
   "execution_count": 24,
   "metadata": {},
   "outputs": [
    {
     "data": {
      "text/plain": [
       "array([[  433.74004925, -1303.17497002],\n",
       "       [ -498.76721575,  1736.17106091],\n",
       "       [ -452.6560357 ,  1922.42350443]])"
      ]
     },
     "execution_count": 24,
     "metadata": {},
     "output_type": "execute_result"
    }
   ],
   "source": [
    "b = np.random.randn(3,2) * 1000\n",
    "b "
   ]
  },
  {
   "cell_type": "code",
   "execution_count": 28,
   "metadata": {},
   "outputs": [
    {
     "data": {
      "text/plain": [
       "array([[ -498.76721575,  1736.17106091],\n",
       "       [  433.74004925, -1303.17497002]])"
      ]
     },
     "execution_count": 28,
     "metadata": {},
     "output_type": "execute_result"
    }
   ],
   "source": [
    "b \n",
    "b[[1, 0]]"
   ]
  },
  {
   "cell_type": "code",
   "execution_count": 21,
   "metadata": {},
   "outputs": [
    {
     "data": {
      "text/plain": [
       "array([[  4.02653552e+02,  -1.10772384e+03],\n",
       "       [  1.00000000e+00,   3.00000000e+00],\n",
       "       [  1.31843674e+03,  -7.69876056e+02]])"
      ]
     },
     "execution_count": 21,
     "metadata": {},
     "output_type": "execute_result"
    }
   ],
   "source": [
    "ids = [1,2]\n",
    "\n",
    "\n",
    "b[[1], [0,1]] = np.array([1, 3])\n",
    "b "
   ]
  },
  {
   "cell_type": "code",
   "execution_count": null,
   "metadata": {
    "collapsed": true
   },
   "outputs": [],
   "source": []
  },
  {
   "cell_type": "code",
   "execution_count": 93,
   "metadata": {},
   "outputs": [
    {
     "data": {
      "text/plain": [
       "array([[1, 2],\n",
       "       [2, 1]])"
      ]
     },
     "execution_count": 93,
     "metadata": {},
     "output_type": "execute_result"
    }
   ],
   "source": [
    "b.argmax(axis=1)"
   ]
  },
  {
   "cell_type": "code",
   "execution_count": 50,
   "metadata": {},
   "outputs": [
    {
     "data": {
      "text/plain": [
       "array([[[1, 1, 1, 1, 1],\n",
       "        [1, 1, 1, 1, 1],\n",
       "        [1, 1, 1, 1, 1]],\n",
       "\n",
       "       [[1, 1, 1, 1, 1],\n",
       "        [1, 1, 1, 1, 1],\n",
       "        [1, 1, 1, 1, 1]],\n",
       "\n",
       "       [[1, 1, 1, 1, 1],\n",
       "        [1, 1, 1, 1, 1],\n",
       "        [1, 1, 1, 1, 1]]])"
      ]
     },
     "execution_count": 50,
     "metadata": {},
     "output_type": "execute_result"
    }
   ],
   "source": [
    "np.argmax(a, axis=0)"
   ]
  },
  {
   "cell_type": "code",
   "execution_count": 38,
   "metadata": {},
   "outputs": [
    {
     "data": {
      "text/plain": [
       "array([[[46, 47, 48, 49, 50],\n",
       "        [51, 52, 53, 54, 55],\n",
       "        [56, 57, 58, 59, 60]],\n",
       "\n",
       "       [[61, 62, 63, 64, 65],\n",
       "        [66, 67, 68, 69, 70],\n",
       "        [71, 72, 73, 74, 75]],\n",
       "\n",
       "       [[76, 77, 78, 79, 80],\n",
       "        [81, 82, 83, 84, 85],\n",
       "        [86, 87, 88, 89, 90]]])"
      ]
     },
     "execution_count": 38,
     "metadata": {},
     "output_type": "execute_result"
    }
   ],
   "source": [
    "a[-1, :, 1:-1, 1:-1]"
   ]
  },
  {
   "cell_type": "code",
   "execution_count": 12,
   "metadata": {},
   "outputs": [
    {
     "data": {
      "text/plain": [
       "array([[ 0,  0,  0,  0,  0,  0],\n",
       "       [ 0,  0,  1,  2,  3,  0],\n",
       "       [ 0,  4,  5,  6,  7,  0],\n",
       "       [ 0,  8,  9, 10, 11,  0],\n",
       "       [ 0, 12, 13, 14, 15,  0],\n",
       "       [ 0,  0,  0,  0,  0,  0]])"
      ]
     },
     "execution_count": 12,
     "metadata": {},
     "output_type": "execute_result"
    }
   ],
   "source": [
    "a_pad = np.pad(a, 1, 'constant', constant_values=())\n",
    "a_pad "
   ]
  },
  {
   "cell_type": "code",
   "execution_count": 11,
   "metadata": {},
   "outputs": [
    {
     "data": {
      "text/plain": [
       "array([[0, 1],\n",
       "       [4, 5]])"
      ]
     },
     "execution_count": 11,
     "metadata": {},
     "output_type": "execute_result"
    }
   ],
   "source": [
    "a_pad[1:3, 1:3]"
   ]
  },
  {
   "cell_type": "code",
   "execution_count": null,
   "metadata": {
    "collapsed": true
   },
   "outputs": [],
   "source": []
  },
  {
   "cell_type": "code",
   "execution_count": 7,
   "metadata": {},
   "outputs": [
    {
     "data": {
      "text/plain": [
       "array([[0, 1, 2],\n",
       "       [0, 1, 2],\n",
       "       [0, 1, 2]])"
      ]
     },
     "execution_count": 7,
     "metadata": {},
     "output_type": "execute_result"
    }
   ],
   "source": [
    "a.repeat(3, axis=0).reshape(3, -1).T "
   ]
  },
  {
   "cell_type": "code",
   "execution_count": 11,
   "metadata": {},
   "outputs": [
    {
     "data": {
      "text/plain": [
       "array([[ 0, -1, -2],\n",
       "       [ 0, -1, -2],\n",
       "       [ 0, -1, -2]])"
      ]
     },
     "execution_count": 11,
     "metadata": {},
     "output_type": "execute_result"
    }
   ],
   "source": [
    "np.tile(-a, 3).reshape(3, -1)\n"
   ]
  },
  {
   "cell_type": "code",
   "execution_count": 13,
   "metadata": {},
   "outputs": [
    {
     "data": {
      "text/plain": [
       "(1, 2, 3)"
      ]
     },
     "execution_count": 13,
     "metadata": {},
     "output_type": "execute_result"
    }
   ],
   "source": [
    "a = (1,2)\n",
    "a + (3,)"
   ]
  },
  {
   "cell_type": "code",
   "execution_count": null,
   "metadata": {
    "collapsed": true
   },
   "outputs": [],
   "source": []
  },
  {
   "cell_type": "code",
   "execution_count": 12,
   "metadata": {},
   "outputs": [
    {
     "data": {
      "text/plain": [
       "8.0855850110791145"
      ]
     },
     "execution_count": 12,
     "metadata": {},
     "output_type": "execute_result"
    }
   ],
   "source": [
    "np.std(np.random.randn(10000) * 8)"
   ]
  },
  {
   "cell_type": "code",
   "execution_count": 29,
   "metadata": {},
   "outputs": [
    {
     "data": {
      "text/plain": [
       "(5, 1, {'b': 2, 'd': 9})"
      ]
     },
     "execution_count": 29,
     "metadata": {},
     "output_type": "execute_result"
    }
   ],
   "source": [
    "d = {'a' : 1, 'b' : 2, 'd' : 9}\n",
    "\n",
    "c = d.pop('c', 5)\n",
    "a = d.pop('a', 3)\n",
    "\n",
    "c, a, d"
   ]
  },
  {
   "cell_type": "code",
   "execution_count": 20,
   "metadata": {},
   "outputs": [
    {
     "data": {
      "text/plain": [
       "array([ 0, 11, 22, 33, 44, 55, 66, 77, 88, 99])"
      ]
     },
     "execution_count": 20,
     "metadata": {},
     "output_type": "execute_result"
    }
   ],
   "source": [
    "a = np.arange(10) * 11 \n",
    "a "
   ]
  },
  {
   "cell_type": "code",
   "execution_count": 25,
   "metadata": {},
   "outputs": [
    {
     "data": {
      "text/plain": [
       "array([8, 8, 9, 2, 3, 6, 5, 1, 2, 4, 4])"
      ]
     },
     "execution_count": 25,
     "metadata": {},
     "output_type": "execute_result"
    }
   ],
   "source": [
    "np.random.choice(10, 11, True)"
   ]
  },
  {
   "cell_type": "code",
   "execution_count": 26,
   "metadata": {},
   "outputs": [
    {
     "data": {
      "text/plain": [
       "array([88, 99])"
      ]
     },
     "execution_count": 26,
     "metadata": {},
     "output_type": "execute_result"
    }
   ],
   "source": [
    "a[8:30]"
   ]
  },
  {
   "cell_type": "code",
   "execution_count": 28,
   "metadata": {},
   "outputs": [
    {
     "data": {
      "text/plain": [
       "array([[ 0],\n",
       "       [11],\n",
       "       [22],\n",
       "       [33],\n",
       "       [44],\n",
       "       [55],\n",
       "       [66],\n",
       "       [77],\n",
       "       [88],\n",
       "       [99]])"
      ]
     },
     "execution_count": 28,
     "metadata": {},
     "output_type": "execute_result"
    }
   ],
   "source": [
    "np.vstack(a)"
   ]
  },
  {
   "cell_type": "code",
   "execution_count": 31,
   "metadata": {},
   "outputs": [
    {
     "name": "stdout",
     "output_type": "stream",
     "text": [
      "b\n",
      "d\n"
     ]
    }
   ],
   "source": [
    "for i in d:\n",
    "    print(i) "
   ]
  },
  {
   "cell_type": "code",
   "execution_count": 32,
   "metadata": {},
   "outputs": [
    {
     "name": "stdout",
     "output_type": "stream",
     "text": [
      "9\n",
      "8\n",
      "7\n",
      "6\n",
      "5\n",
      "4\n",
      "3\n",
      "2\n",
      "1\n"
     ]
    }
   ],
   "source": [
    "for i in range(9, 0, -1):\n",
    "    print(i) "
   ]
  },
  {
   "cell_type": "code",
   "execution_count": 42,
   "metadata": {},
   "outputs": [
    {
     "data": {
      "text/plain": [
       "{'b': 2, 'd': 9, 'hello': array([0, 1, 2, 3, 4, 5, 6, 7, 8])}"
      ]
     },
     "execution_count": 42,
     "metadata": {},
     "output_type": "execute_result"
    }
   ],
   "source": [
    "arr = np.arange(9)\n",
    "d['hello'] = arr.copy() \n",
    "d "
   ]
  },
  {
   "cell_type": "code",
   "execution_count": 43,
   "metadata": {
    "collapsed": true
   },
   "outputs": [],
   "source": [
    "arr *= 10"
   ]
  },
  {
   "cell_type": "code",
   "execution_count": 47,
   "metadata": {},
   "outputs": [
    {
     "data": {
      "text/plain": [
       "{'b': 2, 'd': 9, 'hello': array([0, 1, 2, 3, 4, 5, 6, 7, 8])}"
      ]
     },
     "execution_count": 47,
     "metadata": {},
     "output_type": "execute_result"
    }
   ],
   "source": [
    "d "
   ]
  },
  {
   "cell_type": "code",
   "execution_count": 49,
   "metadata": {},
   "outputs": [
    {
     "data": {
      "text/plain": [
       "19"
      ]
     },
     "execution_count": 49,
     "metadata": {},
     "output_type": "execute_result"
    }
   ],
   "source": [
    "d.get('h', 19)"
   ]
  },
  {
   "cell_type": "code",
   "execution_count": 52,
   "metadata": {},
   "outputs": [
    {
     "data": {
      "text/plain": [
       "{'b': 2, 'd': 9, 'hello': array([0, 1, 2, 3, 4, 5, 6, 7, 8]), 'hue': 88}"
      ]
     },
     "execution_count": 52,
     "metadata": {},
     "output_type": "execute_result"
    }
   ],
   "source": [
    "d.setdefault('b', 90)\n",
    "d.setdefault('hue', 88)\n",
    "d "
   ]
  },
  {
   "cell_type": "code",
   "execution_count": 53,
   "metadata": {},
   "outputs": [
    {
     "data": {
      "text/plain": [
       "7"
      ]
     },
     "execution_count": 53,
     "metadata": {},
     "output_type": "execute_result"
    }
   ],
   "source": [
    "np.random."
   ]
  },
  {
   "cell_type": "code",
   "execution_count": null,
   "metadata": {
    "collapsed": true
   },
   "outputs": [],
   "source": []
  }
 ],
 "metadata": {
  "kernelspec": {
   "display_name": "Python 3",
   "language": "python",
   "name": "python3"
  },
  "latex_envs": {
   "LaTeX_envs_menu_present": true,
   "autocomplete": true,
   "bibliofile": "biblio.bib",
   "cite_by": "apalike",
   "current_citInitial": 1,
   "eqLabelWithNumbers": true,
   "eqNumInitial": 1,
   "hotkeys": {
    "equation": "Ctrl-E",
    "itemize": "Ctrl-I"
   },
   "labels_anchors": false,
   "latex_user_defs": false,
   "report_style_numbering": false,
   "user_envs_cfg": false
  }
 },
 "nbformat": 4,
 "nbformat_minor": 2
}
